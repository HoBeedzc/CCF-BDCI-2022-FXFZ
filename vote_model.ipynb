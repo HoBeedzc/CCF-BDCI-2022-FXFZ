{
 "cells": [
  {
   "cell_type": "code",
   "execution_count": null,
   "metadata": {},
   "outputs": [],
   "source": [
    "# import\n",
    "import numpy as np\n",
    "import pandas as pd\n",
    "from sklearn.ensemble import GradientBoostingClassifier\n",
    "from sklearn.ensemble import HistGradientBoostingClassifier\n",
    "from sklearn.ensemble import VotingClassifier\n",
    "from catboost import CatBoostClassifier\n",
    "from xgboost import XGBClassifier\n",
    "import pickle\n",
    "import warnings\n",
    "warnings.filterwarnings('ignore')\n",
    "\n",
    "!pwd\n",
    "!ls -a ./raw"
   ]
  },
  {
   "cell_type": "code",
   "execution_count": null,
   "metadata": {},
   "outputs": [],
   "source": [
    "# load the data\n",
    "raw_data = pd.read_csv(\"./cache/label_data.csv\")\n",
    "label_data = pd.read_csv(\"./cache/label.csv\")"
   ]
  },
  {
   "cell_type": "code",
   "execution_count": null,
   "metadata": {},
   "outputs": [],
   "source": [
    "def train_model(x,y, model=\"PlaceHolder\"):\n",
    "    x_train,x_test,y_train,y_test = train_test_split(x, y, test_size = 0.3,random_state = 33)\n",
    "    ### 训练模型\n",
    "    if model == \"PlaceHolder\":\n",
    "        model = xgb.XGBClassifier(learning_rate=0.1,\n",
    "                      n_estimators=100,            # 树的个数--100棵树建立xgboost\n",
    "                      max_depth=6,                 # 树的深度\n",
    "                      min_child_weight = 1,        # 叶子节点最小权重\n",
    "                      gamma=0.,                    # 惩罚项中叶子结点个数前的参数\n",
    "                      subsample=0.8,               # 随机选择80%样本建立决策树\n",
    "                      # colsample_btree=0.8,         # 随机选择80%特征建立决策树\n",
    "                      objective='binary:logistic', # 指定损失函数\n",
    "                      scale_pos_weight=1,          # 解决样本个数不平衡的问题\n",
    "                      random_state=27              # 随机数\n",
    "                      )\n",
    "\n",
    "    # 拟合\n",
    "    # model.fit(x_train, y_train, eval_set = [(x_test,y_test)], eval_metric = \"auc\", early_stopping_rounds = 10,verbose = True)\n",
    "    model.fit(x_train, y_train)\n",
    "    \n",
    "    return model,x_train,x_test,y_train,y_test"
   ]
  },
  {
   "cell_type": "code",
   "execution_count": null,
   "metadata": {},
   "outputs": [],
   "source": [
    "# generate the model\n",
    "gbc = GradientBoostingClassifier(\n",
    "    n_estimators=50, \n",
    "    learning_rate=0.1,\n",
    "    max_depth=5\n",
    ")\n",
    "hgbc = HistGradientBoostingClassifier(\n",
    "    max_iter=100,\n",
    "    max_depth=5\n",
    ")\n",
    "xgbc = XGBClassifier(\n",
    "    objective='binary:logistic',\n",
    "    eval_metric='auc',\n",
    "    n_estimators=100, \n",
    "    max_depth=6, \n",
    "    learning_rate=0.1\n",
    ")\n",
    "cbc = CatBoostClassifier(\n",
    "    iterations=210, \n",
    "    depth=6, \n",
    "    learning_rate=0.03, \n",
    "    l2_leaf_reg=1, \n",
    "    loss_function='Logloss', \n",
    "    verbose=0\n",
    ")\n",
    "estimators = [\n",
    "    ('gbc', gbc),\n",
    "    ('hgbc', hgbc),\n",
    "    ('xgbc', xgbc),\n",
    "    ('cbc', cbc)\n",
    "]\n",
    "clf = VotingClassifier(\n",
    "    estimators=estimators, \n",
    "    voting=\"soft\"\n",
    ")"
   ]
  },
  {
   "cell_type": "code",
   "execution_count": null,
   "metadata": {},
   "outputs": [],
   "source": [
    "# fit the model\n",
    "model,x_train,x_test,y_train,y_test = train_model(raw_data,label_data,clf)\n",
    "model"
   ]
  },
  {
   "cell_type": "code",
   "execution_count": null,
   "metadata": {},
   "outputs": [],
   "source": [
    "# save the model\n",
    "with open(\"./models/vote_model.pkl\", \"wb\") as file:\n",
    "    pickle.dump(model,file=file)"
   ]
  }
 ],
 "metadata": {
  "kernelspec": {
   "display_name": "Python 3.10.8 64-bit",
   "language": "python",
   "name": "python3"
  },
  "language_info": {
   "name": "python",
   "version": "3.10.8"
  },
  "orig_nbformat": 4,
  "vscode": {
   "interpreter": {
    "hash": "b0fa6594d8f4cbf19f97940f81e996739fb7646882a419484c72d19e05852a7e"
   }
  }
 },
 "nbformat": 4,
 "nbformat_minor": 2
}
