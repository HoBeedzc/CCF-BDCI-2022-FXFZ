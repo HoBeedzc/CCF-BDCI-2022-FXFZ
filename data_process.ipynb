{
 "cells": [
  {
   "cell_type": "code",
   "execution_count": 13,
   "metadata": {},
   "outputs": [],
   "source": [
    "# import\n",
    "import pandas as pd\n",
    "import numpy as np\n",
    "import warnings\n",
    "warnings.filterwarnings('ignore')"
   ]
  },
  {
   "cell_type": "code",
   "execution_count": 14,
   "metadata": {},
   "outputs": [],
   "source": [
    "# data pre processing\n",
    "def data_pre_process(raw,is_train=True):\n",
    "    data = raw.copy()\n",
    "    data[\"f3\"] = raw[\"f3\"].map({'low': 0, 'mid': 1, 'high': 2})\n",
    "    label = None\n",
    "    \n",
    "    # 暴力Feature 位置\n",
    "    loc_f = ['f1', 'f2', 'f4', 'f5', 'f6']\n",
    "    for i in range(len(loc_f)):\n",
    "        for j in range(i + 1, len(loc_f)):\n",
    "            data[f'{loc_f[i]}+{loc_f[j]}'] = data[loc_f[i]] + data[loc_f[j]]\n",
    "            data[f'{loc_f[i]}-{loc_f[j]}'] = data[loc_f[i]] - data[loc_f[j]]\n",
    "            data[f'{loc_f[i]}*{loc_f[j]}'] = data[loc_f[i]] * data[loc_f[j]]\n",
    "            data[f'{loc_f[i]}/{loc_f[j]}'] = data[loc_f[i]] / data[loc_f[j]]\n",
    "            \n",
    "    # 暴力Feature 通话\n",
    "    com_f = ['f43', 'f44', 'f45', 'f46']\n",
    "    for i in range(len(com_f)):\n",
    "        for j in range(i + 1, len(com_f)):\n",
    "            data[f'{com_f[i]}+{com_f[j]}'] = data[com_f[i]] + data[com_f[j]]\n",
    "            data[f'{com_f[i]}-{com_f[j]}'] = data[com_f[i]] - data[com_f[j]]\n",
    "            data[f'{com_f[i]}*{com_f[j]}'] = data[com_f[i]] * data[com_f[j]]\n",
    "            data[f'{com_f[i]}/{com_f[j]}'] = data[com_f[i]] / data[com_f[j]]\n",
    "            \n",
    "    # 离散化            \n",
    "    all_f = [f'f{idx}' for idx in range(1, 47) if idx != 3]\n",
    "    for col in all_f:\n",
    "        data[f'{col}_log'] = data[col].apply(lambda x: int(np.log(x)) if x > 0 else 0)\n",
    "\n",
    "    # 特征交叉        \n",
    "    log_f = [f'f{idx}_log' for idx in range(1, 47) if idx != 3]\n",
    "    for i in range(len(log_f)):\n",
    "        for j in range(i + 1, len(log_f)):\n",
    "            data[f'{log_f[i]}_{log_f[j]}'] = data[log_f[i]]*10000 + data[log_f[j]]\n",
    "    \n",
    "    data = data.replace([np.inf, -np.inf], np.nan).dropna(axis=1)\n",
    "    if is_train:\n",
    "        label = data[\"label\"]\n",
    "        del data[\"label\"]\n",
    "    del data[\"id\"]\n",
    "    \n",
    "    return data,label"
   ]
  },
  {
   "cell_type": "code",
   "execution_count": 15,
   "metadata": {},
   "outputs": [],
   "source": [
    "# go process\n",
    "# label_data no_label_data semi_label_data\n",
    "label_data = pd.read_csv(\"./raw/dataTrain.csv\")[:50000]\n",
    "no_label_data = pd.read_csv(\"./raw/dataA.csv\")\n",
    "semi_label_data = pd.read_csv(\"./raw/dataNoLabel.csv\")\n",
    "label = label_data[\"label\"]\n",
    "\n",
    "data_list = [label_data,no_label_data,semi_label_data]\n",
    "for index,data in enumerate(data_list):\n",
    "    if index == 0:\n",
    "        is_train=True\n",
    "    else:\n",
    "        is_train=False\n",
    "    data_list[index],_ = data_pre_process(data,is_train)"
   ]
  },
  {
   "cell_type": "code",
   "execution_count": 16,
   "metadata": {},
   "outputs": [],
   "source": [
    "# save data to cache\n",
    "data_list[0].to_csv(\"./cache/label_data.csv\",index=False)\n",
    "data_list[1].to_csv(\"./cache/no_label_data.csv\",index=False)\n",
    "data_list[2].to_csv(\"./cache/semi_label_data.csv\",index=False)\n",
    "label.to_csv(\"./cache/label.csv\",index=False)"
   ]
  }
 ],
 "metadata": {
  "kernelspec": {
   "display_name": "Python 3.10.8 64-bit",
   "language": "python",
   "name": "python3"
  },
  "language_info": {
   "codemirror_mode": {
    "name": "ipython",
    "version": 3
   },
   "file_extension": ".py",
   "mimetype": "text/x-python",
   "name": "python",
   "nbconvert_exporter": "python",
   "pygments_lexer": "ipython3",
   "version": "3.10.8"
  },
  "orig_nbformat": 4,
  "vscode": {
   "interpreter": {
    "hash": "b0fa6594d8f4cbf19f97940f81e996739fb7646882a419484c72d19e05852a7e"
   }
  }
 },
 "nbformat": 4,
 "nbformat_minor": 2
}
