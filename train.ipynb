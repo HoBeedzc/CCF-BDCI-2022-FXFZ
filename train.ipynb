{
 "cells": [
  {
   "cell_type": "code",
   "execution_count": 1,
   "metadata": {},
   "outputs": [
    {
     "name": "stdout",
     "output_type": "stream",
     "text": [
      "/Users/hobee/PythonScript/CCF-BDCI-2022-FXFZ\n",
      "\u001b[34m.\u001b[m\u001b[m                           dataNoLabel.csv\n",
      "\u001b[34m..\u001b[m\u001b[m                          dataTrain.csv\n",
      "dataA.csv                   submit_example_A.csv\n",
      "dataB-209019.csv            submit_example_B-560036.csv\n"
     ]
    }
   ],
   "source": [
    "# import\n",
    "import pickle\n",
    "import pandas as pd\n",
    "import warnings\n",
    "warnings.filterwarnings('ignore')\n",
    "\n",
    "!pwd\n",
    "!ls -a ./raw"
   ]
  },
  {
   "cell_type": "code",
   "execution_count": 2,
   "metadata": {},
   "outputs": [],
   "source": [
    "# load the data\n",
    "data_file_path = \"./cache/b_rank_data.csv\"\n",
    "raw_data = pd.read_csv(\"./raw/dataB-209019.csv\")\n",
    "data = pd.read_csv(data_file_path)"
   ]
  },
  {
   "cell_type": "code",
   "execution_count": 3,
   "metadata": {},
   "outputs": [],
   "source": [
    "# load the model\n",
    "model_file_path = \"./models/rankB_stack_pesudo_model.pkl\"\n",
    "model = pickle.load(open(model_file_path, \"rb\"))"
   ]
  },
  {
   "cell_type": "code",
   "execution_count": 4,
   "metadata": {},
   "outputs": [],
   "source": [
    "# predict\n",
    "pred_prob_A = model.predict_proba(data)[:,1]"
   ]
  },
  {
   "cell_type": "code",
   "execution_count": 5,
   "metadata": {},
   "outputs": [],
   "source": [
    "# save the results\n",
    "def save_label(data_id,label):\n",
    "    df = pd.DataFrame({'id':data_id,'label':label})\n",
    "    df.to_csv(\"./res/b-pesudo-s.csv\",index=False)\n",
    "\n",
    "save_label(list(raw_data['id']),list(pred_prob_A))"
   ]
  }
 ],
 "metadata": {
  "kernelspec": {
   "display_name": "Python 3.10.8 64-bit",
   "language": "python",
   "name": "python3"
  },
  "language_info": {
   "codemirror_mode": {
    "name": "ipython",
    "version": 3
   },
   "file_extension": ".py",
   "mimetype": "text/x-python",
   "name": "python",
   "nbconvert_exporter": "python",
   "pygments_lexer": "ipython3",
   "version": "3.10.8"
  },
  "orig_nbformat": 4,
  "vscode": {
   "interpreter": {
    "hash": "b0fa6594d8f4cbf19f97940f81e996739fb7646882a419484c72d19e05852a7e"
   }
  }
 },
 "nbformat": 4,
 "nbformat_minor": 2
}
