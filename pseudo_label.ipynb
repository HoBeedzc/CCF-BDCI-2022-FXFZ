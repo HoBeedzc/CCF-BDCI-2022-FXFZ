{
 "cells": [
  {
   "cell_type": "code",
   "execution_count": 1,
   "metadata": {},
   "outputs": [
    {
     "name": "stdout",
     "output_type": "stream",
     "text": [
      "/Users/hobee/PythonScript/CCF-BDCI-2022-FXFZ\n",
      "\u001b[34m.\u001b[m\u001b[m                    dataA.csv            dataTrain.csv\n",
      "\u001b[34m..\u001b[m\u001b[m                   dataNoLabel.csv      submit_example_A.csv\n"
     ]
    }
   ],
   "source": [
    "# import \n",
    "import pickle\n",
    "import pandas as pd\n",
    "import xgboost as xgb\n",
    "from sklearn.model_selection import train_test_split\n",
    "from sklearn.metrics import accuracy_score,recall_score,precision_score,roc_auc_score,roc_curve\n",
    "import warnings\n",
    "warnings.filterwarnings('ignore')\n",
    "\n",
    "!pwd\n",
    "!ls -a ./raw"
   ]
  },
  {
   "cell_type": "code",
   "execution_count": 2,
   "metadata": {},
   "outputs": [],
   "source": [
    "# load the data\n",
    "semi_data = pd.read_csv(\"./cache/semi_label_data.csv\")\n",
    "raw_data = pd.read_csv(\"./cache/label_data.csv\")\n",
    "label_data = pd.read_csv(\"./cache/label.csv\")\n",
    "\n",
    "data = semi_data.copy()"
   ]
  },
  {
   "cell_type": "code",
   "execution_count": 3,
   "metadata": {},
   "outputs": [],
   "source": [
    "# load the model\n",
    "model_file_path = \"./models/vote_model.pkl\"\n",
    "model = pickle.load(open(model_file_path, \"rb\"))"
   ]
  },
  {
   "cell_type": "code",
   "execution_count": 4,
   "metadata": {},
   "outputs": [],
   "source": [
    "def train_model(x,y, model=\"PlaceHolder\"):\n",
    "    x_train,x_test,y_train,y_test = train_test_split(x, y, test_size = 0.3,random_state = 33)\n",
    "    ### 训练模型\n",
    "    if model == \"PlaceHolder\":\n",
    "        model = xgb.XGBClassifier(learning_rate=0.1,\n",
    "                      n_estimators=100,            # 树的个数--100棵树建立xgboost\n",
    "                      max_depth=6,                 # 树的深度\n",
    "                      min_child_weight = 1,        # 叶子节点最小权重\n",
    "                      gamma=0.,                    # 惩罚项中叶子结点个数前的参数\n",
    "                      subsample=0.8,               # 随机选择80%样本建立决策树\n",
    "                      # colsample_btree=0.8,         # 随机选择80%特征建立决策树\n",
    "                      objective='binary:logistic', # 指定损失函数\n",
    "                      scale_pos_weight=1,          # 解决样本个数不平衡的问题\n",
    "                      random_state=27              # 随机数\n",
    "                      )\n",
    "\n",
    "    # 拟合\n",
    "    # model.fit(x_train, y_train, eval_set = [(x_test,y_test)], eval_metric = \"auc\", early_stopping_rounds = 10,verbose = True)\n",
    "    model.fit(x_train, y_train)\n",
    "    \n",
    "    return model,x_train,x_test,y_train,y_test"
   ]
  },
  {
   "cell_type": "code",
   "execution_count": 5,
   "metadata": {},
   "outputs": [],
   "source": [
    "# predict\n",
    "pred_prob_A = model.predict_proba(data)"
   ]
  },
  {
   "cell_type": "code",
   "execution_count": 6,
   "metadata": {},
   "outputs": [
    {
     "name": "stdout",
     "output_type": "stream",
     "text": [
      "(39884, 1129)\n",
      "(50000, 1129)\n",
      "epoch:1,auc:0.9181336310745656,last_auc:0,dalta:0.9181336310745656\n",
      "(30930, 1129)\n",
      "(58954, 1129)\n",
      "epoch:2,auc:0.9539604129726633,last_auc:0.9181336310745656,dalta:0.03582678189809774\n",
      "(14321, 1129)\n",
      "(75563, 1129)\n",
      "epoch:3,auc:0.9608558262950092,last_auc:0.9539604129726633,dalta:0.006895413322345889\n",
      "(9772, 1129)\n",
      "(80112, 1129)\n",
      "epoch:4,auc:0.9603840444808177,last_auc:0.9608558262950092,dalta:-0.00047178181419149645\n",
      "(9355, 1129)\n",
      "(80529, 1129)\n",
      "epoch:5,auc:0.96011779146354,last_auc:0.9603840444808177,dalta:-0.00026625301727767337\n",
      "(9240, 1129)\n",
      "(80644, 1129)\n",
      "epoch:6,auc:0.9604636876977516,last_auc:0.96011779146354,dalta:0.00034589623421155125\n",
      "(9160, 1129)\n",
      "(80724, 1129)\n",
      "epoch:7,auc:0.959785488433263,last_auc:0.9604636876977516,dalta:-0.0006781992644886436\n",
      "(9138, 1129)\n",
      "(80746, 1129)\n",
      "epoch:8,auc:0.9599198019127004,last_auc:0.959785488433263,dalta:0.00013431347943748673\n",
      "(9099, 1129)\n",
      "(80785, 1129)\n",
      "epoch:9,auc:0.9595734911807661,last_auc:0.9599198019127004,dalta:-0.0003463107319343628\n",
      "(9081, 1129)\n",
      "(80803, 1129)\n",
      "epoch:10,auc:0.9596678933689297,last_auc:0.9595734911807661,dalta:9.440218816358925e-05\n",
      "(9060, 1129)\n",
      "(80824, 1129)\n",
      "stop at epoch:11!\n"
     ]
    },
    {
     "data": {
      "text/html": [
       "<style>#sk-container-id-1 {color: black;background-color: white;}#sk-container-id-1 pre{padding: 0;}#sk-container-id-1 div.sk-toggleable {background-color: white;}#sk-container-id-1 label.sk-toggleable__label {cursor: pointer;display: block;width: 100%;margin-bottom: 0;padding: 0.3em;box-sizing: border-box;text-align: center;}#sk-container-id-1 label.sk-toggleable__label-arrow:before {content: \"▸\";float: left;margin-right: 0.25em;color: #696969;}#sk-container-id-1 label.sk-toggleable__label-arrow:hover:before {color: black;}#sk-container-id-1 div.sk-estimator:hover label.sk-toggleable__label-arrow:before {color: black;}#sk-container-id-1 div.sk-toggleable__content {max-height: 0;max-width: 0;overflow: hidden;text-align: left;background-color: #f0f8ff;}#sk-container-id-1 div.sk-toggleable__content pre {margin: 0.2em;color: black;border-radius: 0.25em;background-color: #f0f8ff;}#sk-container-id-1 input.sk-toggleable__control:checked~div.sk-toggleable__content {max-height: 200px;max-width: 100%;overflow: auto;}#sk-container-id-1 input.sk-toggleable__control:checked~label.sk-toggleable__label-arrow:before {content: \"▾\";}#sk-container-id-1 div.sk-estimator input.sk-toggleable__control:checked~label.sk-toggleable__label {background-color: #d4ebff;}#sk-container-id-1 div.sk-label input.sk-toggleable__control:checked~label.sk-toggleable__label {background-color: #d4ebff;}#sk-container-id-1 input.sk-hidden--visually {border: 0;clip: rect(1px 1px 1px 1px);clip: rect(1px, 1px, 1px, 1px);height: 1px;margin: -1px;overflow: hidden;padding: 0;position: absolute;width: 1px;}#sk-container-id-1 div.sk-estimator {font-family: monospace;background-color: #f0f8ff;border: 1px dotted black;border-radius: 0.25em;box-sizing: border-box;margin-bottom: 0.5em;}#sk-container-id-1 div.sk-estimator:hover {background-color: #d4ebff;}#sk-container-id-1 div.sk-parallel-item::after {content: \"\";width: 100%;border-bottom: 1px solid gray;flex-grow: 1;}#sk-container-id-1 div.sk-label:hover label.sk-toggleable__label {background-color: #d4ebff;}#sk-container-id-1 div.sk-serial::before {content: \"\";position: absolute;border-left: 1px solid gray;box-sizing: border-box;top: 0;bottom: 0;left: 50%;z-index: 0;}#sk-container-id-1 div.sk-serial {display: flex;flex-direction: column;align-items: center;background-color: white;padding-right: 0.2em;padding-left: 0.2em;position: relative;}#sk-container-id-1 div.sk-item {position: relative;z-index: 1;}#sk-container-id-1 div.sk-parallel {display: flex;align-items: stretch;justify-content: center;background-color: white;position: relative;}#sk-container-id-1 div.sk-item::before, #sk-container-id-1 div.sk-parallel-item::before {content: \"\";position: absolute;border-left: 1px solid gray;box-sizing: border-box;top: 0;bottom: 0;left: 50%;z-index: -1;}#sk-container-id-1 div.sk-parallel-item {display: flex;flex-direction: column;z-index: 1;position: relative;background-color: white;}#sk-container-id-1 div.sk-parallel-item:first-child::after {align-self: flex-end;width: 50%;}#sk-container-id-1 div.sk-parallel-item:last-child::after {align-self: flex-start;width: 50%;}#sk-container-id-1 div.sk-parallel-item:only-child::after {width: 0;}#sk-container-id-1 div.sk-dashed-wrapped {border: 1px dashed gray;margin: 0 0.4em 0.5em 0.4em;box-sizing: border-box;padding-bottom: 0.4em;background-color: white;}#sk-container-id-1 div.sk-label label {font-family: monospace;font-weight: bold;display: inline-block;line-height: 1.2em;}#sk-container-id-1 div.sk-label-container {text-align: center;}#sk-container-id-1 div.sk-container {/* jupyter's `normalize.less` sets `[hidden] { display: none; }` but bootstrap.min.css set `[hidden] { display: none !important; }` so we also need the `!important` here to be able to override the default hidden behavior on the sphinx rendered scikit-learn.org. See: https://github.com/scikit-learn/scikit-learn/issues/21755 */display: inline-block !important;position: relative;}#sk-container-id-1 div.sk-text-repr-fallback {display: none;}</style><div id=\"sk-container-id-1\" class=\"sk-top-container\"><div class=\"sk-text-repr-fallback\"><pre>VotingClassifier(estimators=[(&#x27;gbc&#x27;,\n",
       "                              GradientBoostingClassifier(max_depth=5,\n",
       "                                                         n_estimators=50)),\n",
       "                             (&#x27;hgbc&#x27;,\n",
       "                              HistGradientBoostingClassifier(max_depth=5)),\n",
       "                             (&#x27;xgbc&#x27;,\n",
       "                              XGBClassifier(base_score=None, booster=None,\n",
       "                                            callbacks=None,\n",
       "                                            colsample_bylevel=None,\n",
       "                                            colsample_bynode=None,\n",
       "                                            colsample_bytree=None,\n",
       "                                            early_stopping_rounds=None,\n",
       "                                            enable_categorical=False,\n",
       "                                            eval_metric=&#x27;auc&#x27;, g...\n",
       "                                            learning_rate=0.1, max_bin=None,\n",
       "                                            max_cat_to_onehot=None,\n",
       "                                            max_delta_step=None, max_depth=6,\n",
       "                                            max_leaves=None,\n",
       "                                            min_child_weight=None, missing=nan,\n",
       "                                            monotone_constraints=None,\n",
       "                                            n_estimators=100, n_jobs=None,\n",
       "                                            num_parallel_tree=None,\n",
       "                                            predictor=None, random_state=None,\n",
       "                                            reg_alpha=None, reg_lambda=None, ...)),\n",
       "                             (&#x27;cbc&#x27;,\n",
       "                              &lt;catboost.core.CatBoostClassifier object at 0x148fcc3a0&gt;)],\n",
       "                 voting=&#x27;soft&#x27;)</pre><b>In a Jupyter environment, please rerun this cell to show the HTML representation or trust the notebook. <br />On GitHub, the HTML representation is unable to render, please try loading this page with nbviewer.org.</b></div><div class=\"sk-container\" hidden><div class=\"sk-item sk-dashed-wrapped\"><div class=\"sk-label-container\"><div class=\"sk-label sk-toggleable\"><input class=\"sk-toggleable__control sk-hidden--visually\" id=\"sk-estimator-id-1\" type=\"checkbox\" ><label for=\"sk-estimator-id-1\" class=\"sk-toggleable__label sk-toggleable__label-arrow\">VotingClassifier</label><div class=\"sk-toggleable__content\"><pre>VotingClassifier(estimators=[(&#x27;gbc&#x27;,\n",
       "                              GradientBoostingClassifier(max_depth=5,\n",
       "                                                         n_estimators=50)),\n",
       "                             (&#x27;hgbc&#x27;,\n",
       "                              HistGradientBoostingClassifier(max_depth=5)),\n",
       "                             (&#x27;xgbc&#x27;,\n",
       "                              XGBClassifier(base_score=None, booster=None,\n",
       "                                            callbacks=None,\n",
       "                                            colsample_bylevel=None,\n",
       "                                            colsample_bynode=None,\n",
       "                                            colsample_bytree=None,\n",
       "                                            early_stopping_rounds=None,\n",
       "                                            enable_categorical=False,\n",
       "                                            eval_metric=&#x27;auc&#x27;, g...\n",
       "                                            learning_rate=0.1, max_bin=None,\n",
       "                                            max_cat_to_onehot=None,\n",
       "                                            max_delta_step=None, max_depth=6,\n",
       "                                            max_leaves=None,\n",
       "                                            min_child_weight=None, missing=nan,\n",
       "                                            monotone_constraints=None,\n",
       "                                            n_estimators=100, n_jobs=None,\n",
       "                                            num_parallel_tree=None,\n",
       "                                            predictor=None, random_state=None,\n",
       "                                            reg_alpha=None, reg_lambda=None, ...)),\n",
       "                             (&#x27;cbc&#x27;,\n",
       "                              &lt;catboost.core.CatBoostClassifier object at 0x148fcc3a0&gt;)],\n",
       "                 voting=&#x27;soft&#x27;)</pre></div></div></div><div class=\"sk-parallel\"><div class=\"sk-parallel-item\"><div class=\"sk-item\"><div class=\"sk-label-container\"><div class=\"sk-label sk-toggleable\"><label>gbc</label></div></div><div class=\"sk-serial\"><div class=\"sk-item\"><div class=\"sk-estimator sk-toggleable\"><input class=\"sk-toggleable__control sk-hidden--visually\" id=\"sk-estimator-id-2\" type=\"checkbox\" ><label for=\"sk-estimator-id-2\" class=\"sk-toggleable__label sk-toggleable__label-arrow\">GradientBoostingClassifier</label><div class=\"sk-toggleable__content\"><pre>GradientBoostingClassifier(max_depth=5, n_estimators=50)</pre></div></div></div></div></div></div><div class=\"sk-parallel-item\"><div class=\"sk-item\"><div class=\"sk-label-container\"><div class=\"sk-label sk-toggleable\"><label>hgbc</label></div></div><div class=\"sk-serial\"><div class=\"sk-item\"><div class=\"sk-estimator sk-toggleable\"><input class=\"sk-toggleable__control sk-hidden--visually\" id=\"sk-estimator-id-3\" type=\"checkbox\" ><label for=\"sk-estimator-id-3\" class=\"sk-toggleable__label sk-toggleable__label-arrow\">HistGradientBoostingClassifier</label><div class=\"sk-toggleable__content\"><pre>HistGradientBoostingClassifier(max_depth=5)</pre></div></div></div></div></div></div><div class=\"sk-parallel-item\"><div class=\"sk-item\"><div class=\"sk-label-container\"><div class=\"sk-label sk-toggleable\"><label>xgbc</label></div></div><div class=\"sk-serial\"><div class=\"sk-item\"><div class=\"sk-estimator sk-toggleable\"><input class=\"sk-toggleable__control sk-hidden--visually\" id=\"sk-estimator-id-4\" type=\"checkbox\" ><label for=\"sk-estimator-id-4\" class=\"sk-toggleable__label sk-toggleable__label-arrow\">XGBClassifier</label><div class=\"sk-toggleable__content\"><pre>XGBClassifier(base_score=None, booster=None, callbacks=None,\n",
       "              colsample_bylevel=None, colsample_bynode=None,\n",
       "              colsample_bytree=None, early_stopping_rounds=None,\n",
       "              enable_categorical=False, eval_metric=&#x27;auc&#x27;, gamma=None,\n",
       "              gpu_id=None, grow_policy=None, importance_type=None,\n",
       "              interaction_constraints=None, learning_rate=0.1, max_bin=None,\n",
       "              max_cat_to_onehot=None, max_delta_step=None, max_depth=6,\n",
       "              max_leaves=None, min_child_weight=None, missing=nan,\n",
       "              monotone_constraints=None, n_estimators=100, n_jobs=None,\n",
       "              num_parallel_tree=None, predictor=None, random_state=None,\n",
       "              reg_alpha=None, reg_lambda=None, ...)</pre></div></div></div></div></div></div><div class=\"sk-parallel-item\"><div class=\"sk-item\"><div class=\"sk-label-container\"><div class=\"sk-label sk-toggleable\"><label>cbc</label></div></div><div class=\"sk-serial\"><div class=\"sk-item\"><div class=\"sk-estimator sk-toggleable\"><input class=\"sk-toggleable__control sk-hidden--visually\" id=\"sk-estimator-id-5\" type=\"checkbox\" ><label for=\"sk-estimator-id-5\" class=\"sk-toggleable__label sk-toggleable__label-arrow\">CatBoostClassifier</label><div class=\"sk-toggleable__content\"><pre>&lt;catboost.core.CatBoostClassifier object at 0x148fcc3a0&gt;</pre></div></div></div></div></div></div></div></div></div></div>"
      ],
      "text/plain": [
       "VotingClassifier(estimators=[('gbc',\n",
       "                              GradientBoostingClassifier(max_depth=5,\n",
       "                                                         n_estimators=50)),\n",
       "                             ('hgbc',\n",
       "                              HistGradientBoostingClassifier(max_depth=5)),\n",
       "                             ('xgbc',\n",
       "                              XGBClassifier(base_score=None, booster=None,\n",
       "                                            callbacks=None,\n",
       "                                            colsample_bylevel=None,\n",
       "                                            colsample_bynode=None,\n",
       "                                            colsample_bytree=None,\n",
       "                                            early_stopping_rounds=None,\n",
       "                                            enable_categorical=False,\n",
       "                                            eval_metric='auc', g...\n",
       "                                            learning_rate=0.1, max_bin=None,\n",
       "                                            max_cat_to_onehot=None,\n",
       "                                            max_delta_step=None, max_depth=6,\n",
       "                                            max_leaves=None,\n",
       "                                            min_child_weight=None, missing=nan,\n",
       "                                            monotone_constraints=None,\n",
       "                                            n_estimators=100, n_jobs=None,\n",
       "                                            num_parallel_tree=None,\n",
       "                                            predictor=None, random_state=None,\n",
       "                                            reg_alpha=None, reg_lambda=None, ...)),\n",
       "                             ('cbc',\n",
       "                              <catboost.core.CatBoostClassifier object at 0x148fcc3a0>)],\n",
       "                 voting='soft')"
      ]
     },
     "execution_count": 6,
     "metadata": {},
     "output_type": "execute_result"
    }
   ],
   "source": [
    "# 思路 循环训练 每次将label为概率大于90%的加入训练集重新训练 直到结果无法提升\n",
    "scope = 0.95\n",
    "last_auc = 0\n",
    "epoch = 1\n",
    "print(data.shape)\n",
    "print(raw_data.shape)\n",
    "while True:\n",
    "    pb = model.predict_proba(data)\n",
    "    pos_item = data[pb[:,0] > scope]\n",
    "    neg_item = data[pb[:,1] > scope]\n",
    "    raw_data = raw_data.append(pos_item,ignore_index=True)\n",
    "    raw_data = raw_data.append(neg_item,ignore_index=True)\n",
    "    label_data = label_data.append(\n",
    "        pd.DataFrame({\"label\": [1 for i in range(pos_item.shape[0])]}),\n",
    "        ignore_index=True\n",
    "    )\n",
    "    label_data = label_data.append(\n",
    "        pd.DataFrame({\"label\": [1 for i in range(neg_item.shape[0])]}),\n",
    "        ignore_index=True\n",
    "    )\n",
    "    data = data.drop(pos_item.index,inplace=False)\n",
    "    data = data.drop(neg_item.index,inplace=False)\n",
    "    model,x_train,x_test,y_train,y_test = train_model(raw_data,label_data,model)\n",
    "    if epoch != 1:\n",
    "        last_auc = auc\n",
    "    auc = roc_auc_score(y_test, model.predict_proba(x_test)[:,1])\n",
    "    delta = auc - last_auc\n",
    "    print(f\"epoch:{epoch},auc:{auc},last_auc:{last_auc},dalta:{auc - last_auc}\")\n",
    "    print(data.shape)\n",
    "    print(raw_data.shape)\n",
    "    epoch += 1\n",
    "    if abs(delta) < 0.0001 or epoch == 30:\n",
    "        print(f\"stop at epoch:{epoch}!\")\n",
    "        break\n",
    "\n",
    "model\n"
   ]
  },
  {
   "cell_type": "code",
   "execution_count": 7,
   "metadata": {},
   "outputs": [],
   "source": [
    "# save model\n",
    "with open(\"./models/vote_pesudo_model.pkl\", \"wb\") as file:\n",
    "    pickle.dump(model,file=file)"
   ]
  }
 ],
 "metadata": {
  "kernelspec": {
   "display_name": "Python 3.10.8 64-bit",
   "language": "python",
   "name": "python3"
  },
  "language_info": {
   "codemirror_mode": {
    "name": "ipython",
    "version": 3
   },
   "file_extension": ".py",
   "mimetype": "text/x-python",
   "name": "python",
   "nbconvert_exporter": "python",
   "pygments_lexer": "ipython3",
   "version": "3.10.8"
  },
  "orig_nbformat": 4,
  "vscode": {
   "interpreter": {
    "hash": "b0fa6594d8f4cbf19f97940f81e996739fb7646882a419484c72d19e05852a7e"
   }
  }
 },
 "nbformat": 4,
 "nbformat_minor": 2
}
